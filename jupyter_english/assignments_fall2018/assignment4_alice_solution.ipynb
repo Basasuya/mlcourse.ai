{
 "cells": [
  {
   "cell_type": "code",
   "execution_count": 46,
   "metadata": {
    "_cell_guid": "b1076dfc-b9ad-4769-8c92-a6c4dae69d19",
    "_uuid": "8f2839f25d086af736a60e9eeb907d3b93b6e0e5"
   },
   "outputs": [],
   "source": [
    "from __future__ import division, print_function\n",
    "import warnings\n",
    "import os\n",
    "import re\n",
    "import pickle\n",
    "import numpy as np\n",
    "import pandas as pd\n",
    "import seaborn as sns\n",
    "from matplotlib import pyplot as plt\n",
    "from scipy.sparse import csr_matrix, hstack\n",
    "from sklearn.model_selection import StratifiedKFold, TimeSeriesSplit, GridSearchCV\n",
    "from sklearn.linear_model import LogisticRegression, LogisticRegressionCV\n",
    "from sklearn.metrics import roc_auc_score\n",
    "from scipy.stats.mstats import gmean\n",
    "from sklearn.model_selection import cross_val_score\n",
    "%matplotlib inline\n",
    "warnings.filterwarnings('ignore')"
   ]
  },
  {
   "cell_type": "markdown",
   "metadata": {
    "_uuid": "c73b0efd774c1971dd1b29c4c0566aa6ffdc9bff"
   },
   "source": [
    "### Loading training and test samples. In addition, download the dictionary with sites."
   ]
  },
  {
   "cell_type": "code",
   "execution_count": 23,
   "metadata": {
    "_cell_guid": "79c7e3d0-c299-4dcb-8224-4455121ee9b0",
    "_kg_hide-input": true,
    "_uuid": "d629ff2d2480ee46fbb7e2d37f6b5fab8052498a"
   },
   "outputs": [],
   "source": [
    "PATH_TO_DATA = '../../data/assignment4'\n",
    "train_df = pd.read_csv(os.path.join(PATH_TO_DATA, 'train_sessions.csv'),\n",
    "                       index_col='session_id')\n",
    "test_df = pd.read_csv(os.path.join(PATH_TO_DATA, 'test_sessions.csv'),\n",
    "                      index_col='session_id')\n",
    "with open(os.path.join(PATH_TO_DATA, 'site_dic.pkl'), 'rb') as input_file:\n",
    "    site_dict = pickle.load(input_file)\n",
    "site_dict['Unknown'] = 0\n",
    "\n",
    "#Let's sort the data by time. This is useful for cross-validation over time.\n",
    "train_df = train_df.sort_values(by='time1')"
   ]
  },
  {
   "cell_type": "markdown",
   "metadata": {
    "_uuid": "eeaca0a6e6b115fe6b72023114a08ded43b8088b"
   },
   "source": [
    "### Let's define functions that will be useful in the course of work."
   ]
  },
  {
   "cell_type": "code",
   "execution_count": 32,
   "metadata": {
    "_uuid": "fa613cf4f133e349f6e759f17d5bb5b9ab2de3b8"
   },
   "outputs": [],
   "source": [
    "def get_sites_dict_(data):\n",
    "    '''\n",
    "    Gets dataframe with site names (10 columns) as input.\n",
    "    Returns a dictionary of sites ordered by frequency.\n",
    "    '''\n",
    "    m, n = data.shape #num of rows and columns\n",
    "    data = pd.DataFrame(data.values.reshape(m*n, 1), columns=['site']) #transform to 1 column\n",
    "    freq = data.site.value_counts().reset_index()\n",
    "    key_value_df = pd.DataFrame() #contains a pair of site-frequency\n",
    "    key_value_df['site'] = freq['index']\n",
    "    key_value_df['count'] = freq['site']\n",
    "    key_value_df.sort_values(by='count', inplace=True, ascending=False) \n",
    "    sites_dict = {} \n",
    "    sites_dict['Unknown'] = 0\n",
    "    for i in np.arange(key_value_df.shape[0]):\n",
    "        if key_value_df.iloc[i,0]!='Unknown':\n",
    "            sites_dict[key_value_df.iloc[i,0]] = i+1\n",
    "    return sites_dict\n",
    "\n",
    "def inverse_dict(sites_dict):\n",
    "    '''\n",
    "    Gets a key-value dictionary. \n",
    "    Returns the dictionary by swapping the key and value.\n",
    "    '''\n",
    "    code_sites_dict = {}\n",
    "    sites = list(sites_dict.items())\n",
    "    for site in sites:\n",
    "        code_sites_dict[site[1]] = site[0]\n",
    "    return code_sites_dict\n",
    "\n",
    "def make_sparse_data(data):\n",
    "    '''\n",
    "    Makes sparse matrix\n",
    "    '''\n",
    "    n = data.shape[1]\n",
    "    X = data.values\n",
    "    flatten_X = X.flatten()\n",
    "    new_X = ([1]*flatten_X.shape[0], flatten_X, range(0, flatten_X.shape[0]+10, 10))\n",
    "    X_sparse = csr_matrix(new_X)[:, 1:]\n",
    "    return X_sparse\n",
    "\n",
    "def write_to_submission_file(predicted_labels, out_file,\n",
    "                             target='target', index_label=\"session_id\"):\n",
    "    predicted_df=pd.DataFrame(predicted_labels,index=np.arange(1,predicted_labels.shape[0]+1),columns=[target])\n",
    "    predicted_df.to_csv(out_file, index_label=index_label)"
   ]
  },
  {
   "cell_type": "markdown",
   "metadata": {
    "_uuid": "f93d1fd02b6008a1795c1c8ad53243f182a8381a"
   },
   "source": [
    "### Let's combine training and test samples – it will be necessary to bring them together then to the sparse matrix format."
   ]
  },
  {
   "cell_type": "code",
   "execution_count": 25,
   "metadata": {
    "_uuid": "5695f3852d26026d87b92018c30e706dd448e390"
   },
   "outputs": [
    {
     "data": {
      "text/html": [
       "<div>\n",
       "<style scoped>\n",
       "    .dataframe tbody tr th:only-of-type {\n",
       "        vertical-align: middle;\n",
       "    }\n",
       "\n",
       "    .dataframe tbody tr th {\n",
       "        vertical-align: top;\n",
       "    }\n",
       "\n",
       "    .dataframe thead th {\n",
       "        text-align: right;\n",
       "    }\n",
       "</style>\n",
       "<table border=\"1\" class=\"dataframe\">\n",
       "  <thead>\n",
       "    <tr style=\"text-align: right;\">\n",
       "      <th></th>\n",
       "      <th>site1</th>\n",
       "      <th>site2</th>\n",
       "      <th>site3</th>\n",
       "      <th>site4</th>\n",
       "      <th>site5</th>\n",
       "      <th>site6</th>\n",
       "      <th>site7</th>\n",
       "      <th>site8</th>\n",
       "      <th>site9</th>\n",
       "      <th>site10</th>\n",
       "    </tr>\n",
       "    <tr>\n",
       "      <th>session_id</th>\n",
       "      <th></th>\n",
       "      <th></th>\n",
       "      <th></th>\n",
       "      <th></th>\n",
       "      <th></th>\n",
       "      <th></th>\n",
       "      <th></th>\n",
       "      <th></th>\n",
       "      <th></th>\n",
       "      <th></th>\n",
       "    </tr>\n",
       "  </thead>\n",
       "  <tbody>\n",
       "    <tr>\n",
       "      <th>21669</th>\n",
       "      <td>56</td>\n",
       "      <td>55</td>\n",
       "      <td>0</td>\n",
       "      <td>0</td>\n",
       "      <td>0</td>\n",
       "      <td>0</td>\n",
       "      <td>0</td>\n",
       "      <td>0</td>\n",
       "      <td>0</td>\n",
       "      <td>0</td>\n",
       "    </tr>\n",
       "    <tr>\n",
       "      <th>54843</th>\n",
       "      <td>56</td>\n",
       "      <td>55</td>\n",
       "      <td>56</td>\n",
       "      <td>55</td>\n",
       "      <td>0</td>\n",
       "      <td>0</td>\n",
       "      <td>0</td>\n",
       "      <td>0</td>\n",
       "      <td>0</td>\n",
       "      <td>0</td>\n",
       "    </tr>\n",
       "    <tr>\n",
       "      <th>77292</th>\n",
       "      <td>946</td>\n",
       "      <td>946</td>\n",
       "      <td>951</td>\n",
       "      <td>946</td>\n",
       "      <td>946</td>\n",
       "      <td>945</td>\n",
       "      <td>948</td>\n",
       "      <td>784</td>\n",
       "      <td>949</td>\n",
       "      <td>946</td>\n",
       "    </tr>\n",
       "    <tr>\n",
       "      <th>114021</th>\n",
       "      <td>945</td>\n",
       "      <td>948</td>\n",
       "      <td>949</td>\n",
       "      <td>948</td>\n",
       "      <td>945</td>\n",
       "      <td>946</td>\n",
       "      <td>947</td>\n",
       "      <td>945</td>\n",
       "      <td>946</td>\n",
       "      <td>946</td>\n",
       "    </tr>\n",
       "    <tr>\n",
       "      <th>146670</th>\n",
       "      <td>947</td>\n",
       "      <td>950</td>\n",
       "      <td>948</td>\n",
       "      <td>947</td>\n",
       "      <td>950</td>\n",
       "      <td>952</td>\n",
       "      <td>946</td>\n",
       "      <td>951</td>\n",
       "      <td>946</td>\n",
       "      <td>947</td>\n",
       "    </tr>\n",
       "  </tbody>\n",
       "</table>\n",
       "</div>"
      ],
      "text/plain": [
       "            site1  site2  site3  site4  site5  site6  site7  site8  site9  \\\n",
       "session_id                                                                  \n",
       "21669          56     55      0      0      0      0      0      0      0   \n",
       "54843          56     55     56     55      0      0      0      0      0   \n",
       "77292         946    946    951    946    946    945    948    784    949   \n",
       "114021        945    948    949    948    945    946    947    945    946   \n",
       "146670        947    950    948    947    950    952    946    951    946   \n",
       "\n",
       "            site10  \n",
       "session_id          \n",
       "21669            0  \n",
       "54843            0  \n",
       "77292          946  \n",
       "114021         946  \n",
       "146670         947  "
      ]
     },
     "execution_count": 25,
     "metadata": {},
     "output_type": "execute_result"
    }
   ],
   "source": [
    "train_test_df = pd.concat([train_df, test_df])\n",
    "\n",
    "sites = ['site%s' % i for i in range(1, 11)]\n",
    "times = ['time%s' % i for i in range(1, 11)]\n",
    "all_features = sites + times\n",
    "\n",
    "train_test_df_sites = train_test_df[sites].fillna(0).astype('int')\n",
    "train_test_df_times = train_test_df[times].fillna(0).astype('datetime64')\n",
    "train_test_df_sites.head()"
   ]
  },
  {
   "cell_type": "markdown",
   "metadata": {
    "_uuid": "17138d0461f7f2d3183862f893bfa13d2b979951"
   },
   "source": [
    "### Create a sparse matrix"
   ]
  },
  {
   "cell_type": "code",
   "execution_count": 26,
   "metadata": {
    "_uuid": "0e51550fa4c45806ac09cd587ee59726e1a3ed8b"
   },
   "outputs": [
    {
     "name": "stdout",
     "output_type": "stream",
     "text": [
      "Train DF size: (253561, 48371)\n",
      "Test DF size: (82797, 48371)\n",
      "Target size: (253561,)\n"
     ]
    }
   ],
   "source": [
    "#the index by which we will separate the training sample from the test sample\n",
    "idx_split = train_df.shape[0]\n",
    "\n",
    "y = train_df['target']\n",
    "train_test_sparse = make_sparse_data(train_test_df_sites)\n",
    "X_train_sparse = train_test_sparse[:idx_split, :]\n",
    "X_test_sparse = train_test_sparse[idx_split:,:]\n",
    "\n",
    "print('Train DF size: {0}\\nTest DF size: {1}\\nTarget size: {2}'.format(\n",
    "    str(X_train_sparse.shape), str(X_test_sparse.shape), str(y.shape)))"
   ]
  },
  {
   "cell_type": "markdown",
   "metadata": {
    "_uuid": "41b92273a44371870b2c81d5af8e8b5bbf5947ea"
   },
   "source": [
    "### Step 1. Get rid of the subdomains of 'www.', to bring all sites to one kind. \n",
    "\n",
    "Obviously, sites *www.google.com* and *google.com* it's the same. However, such situations in the data generate unnecessary features and make noise."
   ]
  },
  {
   "cell_type": "code",
   "execution_count": 31,
   "metadata": {
    "_uuid": "0efa10bc7ac09ce18fadb1082b1f6eac6fc3081f"
   },
   "outputs": [
    {
     "name": "stdout",
     "output_type": "stream",
     "text": [
      "              site   count\n",
      "0          Unknown  168150\n",
      "1        google.fr  162411\n",
      "2       google.com  112349\n",
      "3   annotathon.org  108810\n",
      "4  apis.google.com   75913\n",
      "google.fr\n",
      "48372 47135\n"
     ]
    },
    {
     "data": {
      "text/html": [
       "<div>\n",
       "<style scoped>\n",
       "    .dataframe tbody tr th:only-of-type {\n",
       "        vertical-align: middle;\n",
       "    }\n",
       "\n",
       "    .dataframe tbody tr th {\n",
       "        vertical-align: top;\n",
       "    }\n",
       "\n",
       "    .dataframe thead th {\n",
       "        text-align: right;\n",
       "    }\n",
       "</style>\n",
       "<table border=\"1\" class=\"dataframe\">\n",
       "  <thead>\n",
       "    <tr style=\"text-align: right;\">\n",
       "      <th></th>\n",
       "      <th>site1</th>\n",
       "      <th>site2</th>\n",
       "      <th>site3</th>\n",
       "      <th>site4</th>\n",
       "      <th>site5</th>\n",
       "      <th>site6</th>\n",
       "      <th>site7</th>\n",
       "      <th>site8</th>\n",
       "      <th>site9</th>\n",
       "      <th>site10</th>\n",
       "    </tr>\n",
       "    <tr>\n",
       "      <th>session_id</th>\n",
       "      <th></th>\n",
       "      <th></th>\n",
       "      <th></th>\n",
       "      <th></th>\n",
       "      <th></th>\n",
       "      <th></th>\n",
       "      <th></th>\n",
       "      <th></th>\n",
       "      <th></th>\n",
       "      <th></th>\n",
       "    </tr>\n",
       "  </thead>\n",
       "  <tbody>\n",
       "    <tr>\n",
       "      <th>21669</th>\n",
       "      <td>safebrowsing.clients.google.com</td>\n",
       "      <td>safebrowsing-cache.google.com</td>\n",
       "      <td>Unknown</td>\n",
       "      <td>Unknown</td>\n",
       "      <td>Unknown</td>\n",
       "      <td>Unknown</td>\n",
       "      <td>Unknown</td>\n",
       "      <td>Unknown</td>\n",
       "      <td>Unknown</td>\n",
       "      <td>Unknown</td>\n",
       "    </tr>\n",
       "    <tr>\n",
       "      <th>54843</th>\n",
       "      <td>safebrowsing.clients.google.com</td>\n",
       "      <td>safebrowsing-cache.google.com</td>\n",
       "      <td>safebrowsing.clients.google.com</td>\n",
       "      <td>safebrowsing-cache.google.com</td>\n",
       "      <td>Unknown</td>\n",
       "      <td>Unknown</td>\n",
       "      <td>Unknown</td>\n",
       "      <td>Unknown</td>\n",
       "      <td>Unknown</td>\n",
       "      <td>Unknown</td>\n",
       "    </tr>\n",
       "    <tr>\n",
       "      <th>77292</th>\n",
       "      <td>apache.org</td>\n",
       "      <td>apache.org</td>\n",
       "      <td>download.eclipse.org</td>\n",
       "      <td>apache.org</td>\n",
       "      <td>apache.org</td>\n",
       "      <td>webtide.com</td>\n",
       "      <td>download.oracle.com</td>\n",
       "      <td>javadl-esd-secure.oracle.com</td>\n",
       "      <td>caucho.com</td>\n",
       "      <td>apache.org</td>\n",
       "    </tr>\n",
       "    <tr>\n",
       "      <th>114021</th>\n",
       "      <td>webtide.com</td>\n",
       "      <td>download.oracle.com</td>\n",
       "      <td>caucho.com</td>\n",
       "      <td>download.oracle.com</td>\n",
       "      <td>webtide.com</td>\n",
       "      <td>apache.org</td>\n",
       "      <td>public.dhe.ibm.com</td>\n",
       "      <td>webtide.com</td>\n",
       "      <td>apache.org</td>\n",
       "      <td>apache.org</td>\n",
       "    </tr>\n",
       "    <tr>\n",
       "      <th>146670</th>\n",
       "      <td>public.dhe.ibm.com</td>\n",
       "      <td>jope.ow2.org</td>\n",
       "      <td>download.oracle.com</td>\n",
       "      <td>public.dhe.ibm.com</td>\n",
       "      <td>jope.ow2.org</td>\n",
       "      <td>master.dl.sourceforge.net</td>\n",
       "      <td>apache.org</td>\n",
       "      <td>download.eclipse.org</td>\n",
       "      <td>apache.org</td>\n",
       "      <td>public.dhe.ibm.com</td>\n",
       "    </tr>\n",
       "  </tbody>\n",
       "</table>\n",
       "</div>"
      ],
      "text/plain": [
       "                                      site1                          site2  \\\n",
       "session_id                                                                   \n",
       "21669       safebrowsing.clients.google.com  safebrowsing-cache.google.com   \n",
       "54843       safebrowsing.clients.google.com  safebrowsing-cache.google.com   \n",
       "77292                            apache.org                     apache.org   \n",
       "114021                          webtide.com            download.oracle.com   \n",
       "146670                   public.dhe.ibm.com                   jope.ow2.org   \n",
       "\n",
       "                                      site3                          site4  \\\n",
       "session_id                                                                   \n",
       "21669                               Unknown                        Unknown   \n",
       "54843       safebrowsing.clients.google.com  safebrowsing-cache.google.com   \n",
       "77292                  download.eclipse.org                     apache.org   \n",
       "114021                           caucho.com            download.oracle.com   \n",
       "146670                  download.oracle.com             public.dhe.ibm.com   \n",
       "\n",
       "                   site5                      site6                site7  \\\n",
       "session_id                                                                 \n",
       "21669            Unknown                    Unknown              Unknown   \n",
       "54843            Unknown                    Unknown              Unknown   \n",
       "77292         apache.org                webtide.com  download.oracle.com   \n",
       "114021       webtide.com                 apache.org   public.dhe.ibm.com   \n",
       "146670      jope.ow2.org  master.dl.sourceforge.net           apache.org   \n",
       "\n",
       "                                   site8       site9              site10  \n",
       "session_id                                                                \n",
       "21669                            Unknown     Unknown             Unknown  \n",
       "54843                            Unknown     Unknown             Unknown  \n",
       "77292       javadl-esd-secure.oracle.com  caucho.com          apache.org  \n",
       "114021                       webtide.com  apache.org          apache.org  \n",
       "146670              download.eclipse.org  apache.org  public.dhe.ibm.com  "
      ]
     },
     "execution_count": 31,
     "metadata": {},
     "output_type": "execute_result"
    }
   ],
   "source": [
    "#Spoiler: this conversion gives a good boost. If you have not done it yet, be sure to use it :)\n",
    "general_df = pd.concat([train_test_df_sites, train_test_df_times], axis=1) #main df\n",
    "\n",
    "general_sites = general_df[sites].apply(lambda ts: ts.map(inverse_dict(site_dict))) #instead of numbers the names of sites\n",
    "general_sites = general_sites.applymap(lambda site: re.sub(\"^\\S*?\\.*?www\\S*?\\.\", '', site)) \n",
    "\n",
    "new_site_dict = get_sites_dict_(general_sites)\n",
    "\n",
    "#on a thousand unique sites became less.\n",
    "print(len(list(site_dict.keys())), len(list(new_site_dict.keys())))\n",
    "general_sites.head()"
   ]
  },
  {
   "cell_type": "code",
   "execution_count": 33,
   "metadata": {
    "_uuid": "b8243b9f4b6b867c8c735cbb3805ecaf352396d0"
   },
   "outputs": [
    {
     "name": "stdout",
     "output_type": "stream",
     "text": [
      "            site1  site2  site3  site4  site5  site6  site7  site8  site9  \\\n",
      "session_id                                                                  \n",
      "21669          30     14      0      0      0      0      0      0      0   \n",
      "54843          30     14     30     14      0      0      0      0      0   \n",
      "77292         474    474    529    474    474   1536    126     66   3250   \n",
      "114021       1536    126   3250    126   1536    474    819   1536    474   \n",
      "146670        819   2771    126    819   2771   3084    474    529    474   \n",
      "\n",
      "            site10  \n",
      "session_id          \n",
      "21669            0  \n",
      "54843            0  \n",
      "77292          474  \n",
      "114021         474  \n",
      "146670         819  \n"
     ]
    }
   ],
   "source": [
    "general_df[sites] = general_sites.apply(lambda ts: ts.map(new_site_dict)) #new coding\n",
    "print(general_df[sites].head())\n",
    "general_sites_sparse = make_sparse_data(general_df[sites]) #make the first half of the sparse matrix (sites)."
   ]
  },
  {
   "cell_type": "markdown",
   "metadata": {
    "_uuid": "361f0825371fa83fb837c3ef4e59a02133d93fe2"
   },
   "source": [
    "### Step 2. Create features."
   ]
  },
  {
   "cell_type": "code",
   "execution_count": 34,
   "metadata": {
    "_uuid": "f2a7d35a9f9b756a963992339e703c0e6972036b"
   },
   "outputs": [
    {
     "data": {
      "text/html": [
       "<div>\n",
       "<style scoped>\n",
       "    .dataframe tbody tr th:only-of-type {\n",
       "        vertical-align: middle;\n",
       "    }\n",
       "\n",
       "    .dataframe tbody tr th {\n",
       "        vertical-align: top;\n",
       "    }\n",
       "\n",
       "    .dataframe thead th {\n",
       "        text-align: right;\n",
       "    }\n",
       "</style>\n",
       "<table border=\"1\" class=\"dataframe\">\n",
       "  <thead>\n",
       "    <tr style=\"text-align: right;\">\n",
       "      <th></th>\n",
       "      <th>site1</th>\n",
       "      <th>site2</th>\n",
       "      <th>site3</th>\n",
       "      <th>site4</th>\n",
       "      <th>site5</th>\n",
       "      <th>site6</th>\n",
       "      <th>site7</th>\n",
       "      <th>site8</th>\n",
       "      <th>site9</th>\n",
       "      <th>site10</th>\n",
       "      <th>...</th>\n",
       "      <th>time6</th>\n",
       "      <th>time7</th>\n",
       "      <th>time8</th>\n",
       "      <th>time9</th>\n",
       "      <th>time10</th>\n",
       "      <th>morning</th>\n",
       "      <th>evening</th>\n",
       "      <th>start_hour</th>\n",
       "      <th>month</th>\n",
       "      <th>day_of_week</th>\n",
       "    </tr>\n",
       "    <tr>\n",
       "      <th>session_id</th>\n",
       "      <th></th>\n",
       "      <th></th>\n",
       "      <th></th>\n",
       "      <th></th>\n",
       "      <th></th>\n",
       "      <th></th>\n",
       "      <th></th>\n",
       "      <th></th>\n",
       "      <th></th>\n",
       "      <th></th>\n",
       "      <th></th>\n",
       "      <th></th>\n",
       "      <th></th>\n",
       "      <th></th>\n",
       "      <th></th>\n",
       "      <th></th>\n",
       "      <th></th>\n",
       "      <th></th>\n",
       "      <th></th>\n",
       "      <th></th>\n",
       "      <th></th>\n",
       "    </tr>\n",
       "  </thead>\n",
       "  <tbody>\n",
       "    <tr>\n",
       "      <th>21669</th>\n",
       "      <td>30</td>\n",
       "      <td>14</td>\n",
       "      <td>0</td>\n",
       "      <td>0</td>\n",
       "      <td>0</td>\n",
       "      <td>0</td>\n",
       "      <td>0</td>\n",
       "      <td>0</td>\n",
       "      <td>0</td>\n",
       "      <td>0</td>\n",
       "      <td>...</td>\n",
       "      <td>1970-01-01 00:00:00</td>\n",
       "      <td>1970-01-01 00:00:00</td>\n",
       "      <td>1970-01-01 00:00:00</td>\n",
       "      <td>1970-01-01 00:00:00</td>\n",
       "      <td>1970-01-01 00:00:00</td>\n",
       "      <td>1</td>\n",
       "      <td>0</td>\n",
       "      <td>8</td>\n",
       "      <td>1</td>\n",
       "      <td>6</td>\n",
       "    </tr>\n",
       "    <tr>\n",
       "      <th>54843</th>\n",
       "      <td>30</td>\n",
       "      <td>14</td>\n",
       "      <td>30</td>\n",
       "      <td>14</td>\n",
       "      <td>0</td>\n",
       "      <td>0</td>\n",
       "      <td>0</td>\n",
       "      <td>0</td>\n",
       "      <td>0</td>\n",
       "      <td>0</td>\n",
       "      <td>...</td>\n",
       "      <td>1970-01-01 00:00:00</td>\n",
       "      <td>1970-01-01 00:00:00</td>\n",
       "      <td>1970-01-01 00:00:00</td>\n",
       "      <td>1970-01-01 00:00:00</td>\n",
       "      <td>1970-01-01 00:00:00</td>\n",
       "      <td>1</td>\n",
       "      <td>0</td>\n",
       "      <td>8</td>\n",
       "      <td>1</td>\n",
       "      <td>6</td>\n",
       "    </tr>\n",
       "    <tr>\n",
       "      <th>77292</th>\n",
       "      <td>474</td>\n",
       "      <td>474</td>\n",
       "      <td>529</td>\n",
       "      <td>474</td>\n",
       "      <td>474</td>\n",
       "      <td>1536</td>\n",
       "      <td>126</td>\n",
       "      <td>66</td>\n",
       "      <td>3250</td>\n",
       "      <td>474</td>\n",
       "      <td>...</td>\n",
       "      <td>2013-01-12 08:50:16</td>\n",
       "      <td>2013-01-12 08:50:16</td>\n",
       "      <td>2013-01-12 08:50:16</td>\n",
       "      <td>2013-01-12 08:50:17</td>\n",
       "      <td>2013-01-12 08:50:17</td>\n",
       "      <td>1</td>\n",
       "      <td>0</td>\n",
       "      <td>8</td>\n",
       "      <td>1</td>\n",
       "      <td>6</td>\n",
       "    </tr>\n",
       "    <tr>\n",
       "      <th>114021</th>\n",
       "      <td>1536</td>\n",
       "      <td>126</td>\n",
       "      <td>3250</td>\n",
       "      <td>126</td>\n",
       "      <td>1536</td>\n",
       "      <td>474</td>\n",
       "      <td>819</td>\n",
       "      <td>1536</td>\n",
       "      <td>474</td>\n",
       "      <td>474</td>\n",
       "      <td>...</td>\n",
       "      <td>2013-01-12 08:50:18</td>\n",
       "      <td>2013-01-12 08:50:19</td>\n",
       "      <td>2013-01-12 08:50:19</td>\n",
       "      <td>2013-01-12 08:50:19</td>\n",
       "      <td>2013-01-12 08:50:20</td>\n",
       "      <td>1</td>\n",
       "      <td>0</td>\n",
       "      <td>8</td>\n",
       "      <td>1</td>\n",
       "      <td>6</td>\n",
       "    </tr>\n",
       "    <tr>\n",
       "      <th>146670</th>\n",
       "      <td>819</td>\n",
       "      <td>2771</td>\n",
       "      <td>126</td>\n",
       "      <td>819</td>\n",
       "      <td>2771</td>\n",
       "      <td>3084</td>\n",
       "      <td>474</td>\n",
       "      <td>529</td>\n",
       "      <td>474</td>\n",
       "      <td>819</td>\n",
       "      <td>...</td>\n",
       "      <td>2013-01-12 08:50:21</td>\n",
       "      <td>2013-01-12 08:50:21</td>\n",
       "      <td>2013-01-12 08:50:22</td>\n",
       "      <td>2013-01-12 08:50:22</td>\n",
       "      <td>2013-01-12 08:50:22</td>\n",
       "      <td>1</td>\n",
       "      <td>0</td>\n",
       "      <td>8</td>\n",
       "      <td>1</td>\n",
       "      <td>6</td>\n",
       "    </tr>\n",
       "  </tbody>\n",
       "</table>\n",
       "<p>5 rows × 25 columns</p>\n",
       "</div>"
      ],
      "text/plain": [
       "            site1  site2  site3  site4  site5  site6  site7  site8  site9  \\\n",
       "session_id                                                                  \n",
       "21669          30     14      0      0      0      0      0      0      0   \n",
       "54843          30     14     30     14      0      0      0      0      0   \n",
       "77292         474    474    529    474    474   1536    126     66   3250   \n",
       "114021       1536    126   3250    126   1536    474    819   1536    474   \n",
       "146670        819   2771    126    819   2771   3084    474    529    474   \n",
       "\n",
       "            site10     ...                   time6               time7  \\\n",
       "session_id             ...                                               \n",
       "21669            0     ...     1970-01-01 00:00:00 1970-01-01 00:00:00   \n",
       "54843            0     ...     1970-01-01 00:00:00 1970-01-01 00:00:00   \n",
       "77292          474     ...     2013-01-12 08:50:16 2013-01-12 08:50:16   \n",
       "114021         474     ...     2013-01-12 08:50:18 2013-01-12 08:50:19   \n",
       "146670         819     ...     2013-01-12 08:50:21 2013-01-12 08:50:21   \n",
       "\n",
       "                         time8               time9              time10  \\\n",
       "session_id                                                               \n",
       "21669      1970-01-01 00:00:00 1970-01-01 00:00:00 1970-01-01 00:00:00   \n",
       "54843      1970-01-01 00:00:00 1970-01-01 00:00:00 1970-01-01 00:00:00   \n",
       "77292      2013-01-12 08:50:16 2013-01-12 08:50:17 2013-01-12 08:50:17   \n",
       "114021     2013-01-12 08:50:19 2013-01-12 08:50:19 2013-01-12 08:50:20   \n",
       "146670     2013-01-12 08:50:22 2013-01-12 08:50:22 2013-01-12 08:50:22   \n",
       "\n",
       "           morning evening start_hour month day_of_week  \n",
       "session_id                                               \n",
       "21669            1       0          8     1           6  \n",
       "54843            1       0          8     1           6  \n",
       "77292            1       0          8     1           6  \n",
       "114021           1       0          8     1           6  \n",
       "146670           1       0          8     1           6  \n",
       "\n",
       "[5 rows x 25 columns]"
      ]
     },
     "execution_count": 34,
     "metadata": {},
     "output_type": "execute_result"
    }
   ],
   "source": [
    "#1 morning\n",
    "general_df['morning'] = general_df['time1'].apply(lambda ts: 1 if (ts.hour>=7) & (ts.hour<=11) else 0)\n",
    "#2 evening\n",
    "general_df['evening'] = general_df['time1'].apply(lambda ts: 1 if (ts.hour>=19) & (ts.hour<=23) else 0)\n",
    "#3 start hour\n",
    "general_df['start_hour'] = general_df['time1'].apply(lambda ts: int(ts.hour))\n",
    "#4 month\n",
    "general_df['month'] = general_df['time1'].apply(lambda ts: ts.month)\n",
    "#5 day of week\n",
    "general_df['day_of_week'] = general_df['time1'].apply(lambda ts: ts.isoweekday())\n",
    "\n",
    "general_df.head()"
   ]
  },
  {
   "cell_type": "code",
   "execution_count": 56,
   "metadata": {},
   "outputs": [
    {
     "data": {
      "text/html": [
       "<div>\n",
       "<style scoped>\n",
       "    .dataframe tbody tr th:only-of-type {\n",
       "        vertical-align: middle;\n",
       "    }\n",
       "\n",
       "    .dataframe tbody tr th {\n",
       "        vertical-align: top;\n",
       "    }\n",
       "\n",
       "    .dataframe thead th {\n",
       "        text-align: right;\n",
       "    }\n",
       "</style>\n",
       "<table border=\"1\" class=\"dataframe\">\n",
       "  <thead>\n",
       "    <tr style=\"text-align: right;\">\n",
       "      <th></th>\n",
       "      <th>site1</th>\n",
       "      <th>site2</th>\n",
       "      <th>site3</th>\n",
       "      <th>site4</th>\n",
       "      <th>site5</th>\n",
       "      <th>site6</th>\n",
       "      <th>site7</th>\n",
       "      <th>site8</th>\n",
       "      <th>site9</th>\n",
       "      <th>site10</th>\n",
       "      <th>...</th>\n",
       "      <th>morning</th>\n",
       "      <th>evening</th>\n",
       "      <th>start_hour</th>\n",
       "      <th>month</th>\n",
       "      <th>day_of_week</th>\n",
       "      <th>morning2</th>\n",
       "      <th>evening2</th>\n",
       "      <th>start_hour2</th>\n",
       "      <th>month2</th>\n",
       "      <th>day_of_week2</th>\n",
       "    </tr>\n",
       "    <tr>\n",
       "      <th>session_id</th>\n",
       "      <th></th>\n",
       "      <th></th>\n",
       "      <th></th>\n",
       "      <th></th>\n",
       "      <th></th>\n",
       "      <th></th>\n",
       "      <th></th>\n",
       "      <th></th>\n",
       "      <th></th>\n",
       "      <th></th>\n",
       "      <th></th>\n",
       "      <th></th>\n",
       "      <th></th>\n",
       "      <th></th>\n",
       "      <th></th>\n",
       "      <th></th>\n",
       "      <th></th>\n",
       "      <th></th>\n",
       "      <th></th>\n",
       "      <th></th>\n",
       "      <th></th>\n",
       "    </tr>\n",
       "  </thead>\n",
       "  <tbody>\n",
       "    <tr>\n",
       "      <th>21669</th>\n",
       "      <td>30</td>\n",
       "      <td>14</td>\n",
       "      <td>0</td>\n",
       "      <td>0</td>\n",
       "      <td>0</td>\n",
       "      <td>0</td>\n",
       "      <td>0</td>\n",
       "      <td>0</td>\n",
       "      <td>0</td>\n",
       "      <td>0</td>\n",
       "      <td>...</td>\n",
       "      <td>1</td>\n",
       "      <td>0</td>\n",
       "      <td>8</td>\n",
       "      <td>1</td>\n",
       "      <td>6</td>\n",
       "      <td>1</td>\n",
       "      <td>0</td>\n",
       "      <td>8</td>\n",
       "      <td>1</td>\n",
       "      <td>6</td>\n",
       "    </tr>\n",
       "    <tr>\n",
       "      <th>54843</th>\n",
       "      <td>30</td>\n",
       "      <td>14</td>\n",
       "      <td>30</td>\n",
       "      <td>14</td>\n",
       "      <td>0</td>\n",
       "      <td>0</td>\n",
       "      <td>0</td>\n",
       "      <td>0</td>\n",
       "      <td>0</td>\n",
       "      <td>0</td>\n",
       "      <td>...</td>\n",
       "      <td>1</td>\n",
       "      <td>0</td>\n",
       "      <td>8</td>\n",
       "      <td>1</td>\n",
       "      <td>6</td>\n",
       "      <td>1</td>\n",
       "      <td>0</td>\n",
       "      <td>8</td>\n",
       "      <td>1</td>\n",
       "      <td>6</td>\n",
       "    </tr>\n",
       "    <tr>\n",
       "      <th>77292</th>\n",
       "      <td>474</td>\n",
       "      <td>474</td>\n",
       "      <td>529</td>\n",
       "      <td>474</td>\n",
       "      <td>474</td>\n",
       "      <td>1536</td>\n",
       "      <td>126</td>\n",
       "      <td>66</td>\n",
       "      <td>3250</td>\n",
       "      <td>474</td>\n",
       "      <td>...</td>\n",
       "      <td>1</td>\n",
       "      <td>0</td>\n",
       "      <td>8</td>\n",
       "      <td>1</td>\n",
       "      <td>6</td>\n",
       "      <td>1</td>\n",
       "      <td>0</td>\n",
       "      <td>8</td>\n",
       "      <td>1</td>\n",
       "      <td>6</td>\n",
       "    </tr>\n",
       "    <tr>\n",
       "      <th>114021</th>\n",
       "      <td>1536</td>\n",
       "      <td>126</td>\n",
       "      <td>3250</td>\n",
       "      <td>126</td>\n",
       "      <td>1536</td>\n",
       "      <td>474</td>\n",
       "      <td>819</td>\n",
       "      <td>1536</td>\n",
       "      <td>474</td>\n",
       "      <td>474</td>\n",
       "      <td>...</td>\n",
       "      <td>1</td>\n",
       "      <td>0</td>\n",
       "      <td>8</td>\n",
       "      <td>1</td>\n",
       "      <td>6</td>\n",
       "      <td>1</td>\n",
       "      <td>0</td>\n",
       "      <td>8</td>\n",
       "      <td>1</td>\n",
       "      <td>6</td>\n",
       "    </tr>\n",
       "    <tr>\n",
       "      <th>146670</th>\n",
       "      <td>819</td>\n",
       "      <td>2771</td>\n",
       "      <td>126</td>\n",
       "      <td>819</td>\n",
       "      <td>2771</td>\n",
       "      <td>3084</td>\n",
       "      <td>474</td>\n",
       "      <td>529</td>\n",
       "      <td>474</td>\n",
       "      <td>819</td>\n",
       "      <td>...</td>\n",
       "      <td>1</td>\n",
       "      <td>0</td>\n",
       "      <td>8</td>\n",
       "      <td>1</td>\n",
       "      <td>6</td>\n",
       "      <td>1</td>\n",
       "      <td>0</td>\n",
       "      <td>8</td>\n",
       "      <td>1</td>\n",
       "      <td>6</td>\n",
       "    </tr>\n",
       "  </tbody>\n",
       "</table>\n",
       "<p>5 rows × 30 columns</p>\n",
       "</div>"
      ],
      "text/plain": [
       "            site1  site2  site3  site4  site5  site6  site7  site8  site9  \\\n",
       "session_id                                                                  \n",
       "21669          30     14      0      0      0      0      0      0      0   \n",
       "54843          30     14     30     14      0      0      0      0      0   \n",
       "77292         474    474    529    474    474   1536    126     66   3250   \n",
       "114021       1536    126   3250    126   1536    474    819   1536    474   \n",
       "146670        819   2771    126    819   2771   3084    474    529    474   \n",
       "\n",
       "            site10     ...      morning evening start_hour month day_of_week  \\\n",
       "session_id             ...                                                     \n",
       "21669            0     ...            1       0          8     1           6   \n",
       "54843            0     ...            1       0          8     1           6   \n",
       "77292          474     ...            1       0          8     1           6   \n",
       "114021         474     ...            1       0          8     1           6   \n",
       "146670         819     ...            1       0          8     1           6   \n",
       "\n",
       "           morning2 evening2 start_hour2 month2 day_of_week2  \n",
       "session_id                                                    \n",
       "21669             1        0           8      1            6  \n",
       "54843             1        0           8      1            6  \n",
       "77292             1        0           8      1            6  \n",
       "114021            1        0           8      1            6  \n",
       "146670            1        0           8      1            6  \n",
       "\n",
       "[5 rows x 30 columns]"
      ]
     },
     "execution_count": 56,
     "metadata": {},
     "output_type": "execute_result"
    }
   ],
   "source": [
    "general_df['morning2'] = general_df['time2'].apply(lambda ts: 1 if (ts.hour>=7) & (ts.hour<=11) else 0)\n",
    "#2 evening\n",
    "general_df['evening2'] = general_df['time2'].apply(lambda ts: 1 if (ts.hour>=19) & (ts.hour<=23) else 0)\n",
    "#3 start hour\n",
    "general_df['start_hour2'] = general_df['time2'].apply(lambda ts: int(ts.hour))\n",
    "#4 month\n",
    "general_df['month2'] = general_df['time2'].apply(lambda ts: ts.month)\n",
    "#5 day of week\n",
    "general_df['day_of_week2'] = general_df['time2'].apply(lambda ts: ts.isoweekday())\n",
    "\n",
    "general_df.head()\n",
    "\n"
   ]
  },
  {
   "cell_type": "code",
   "execution_count": 59,
   "metadata": {},
   "outputs": [],
   "source": [
    "time1 = ['morning', 'evening', 'start_hour', 'month', 'day_of_week']\n",
    "time2 = ['morning2', 'evening2', 'start_hour2', 'month2', 'day_of_week2']"
   ]
  },
  {
   "cell_type": "markdown",
   "metadata": {
    "_uuid": "f0f343403238685cb09a5fa52b47b0c2c5479ecf"
   },
   "source": [
    "### Step 3. Visual analysis of the constructed features.\n",
    "Let's compare the behavior of Alice and all the others"
   ]
  },
  {
   "cell_type": "code",
   "execution_count": 60,
   "metadata": {
    "_uuid": "20437652d3118f72fa98d25a26f6847f4fc3949e"
   },
   "outputs": [
    {
     "name": "stdout",
     "output_type": "stream",
     "text": [
      "['morning', 'month', 'day_of_week', 'start_hour', 'evening']\n"
     ]
    },
    {
     "data": {
      "text/plain": [
       "<matplotlib.axes._subplots.AxesSubplot at 0x115d83e48>"
      ]
     },
     "execution_count": 60,
     "metadata": {},
     "output_type": "execute_result"
    },
    {
     "data": {
      "image/png": "[encoded data removed]",
      "text/plain": [
       "<Figure size 432x288 with 2 Axes>"
      ]
     },
     "metadata": {},
     "output_type": "display_data"
    }
   ],
   "source": [
    "other_features = list(set(general_df.columns) - set(times) - set(sites) - set(time2))\n",
    "print(other_features)\n",
    "visual_df = general_df[other_features]\n",
    "visual_df[\"target\"] = y\n",
    "\n",
    "#correlations\n",
    "sns.heatmap(visual_df.corr())"
   ]
  },
  {
   "cell_type": "code",
   "execution_count": 15,
   "metadata": {
    "_uuid": "010f87217c86eed50f29ccd18b6fea692c4eba5e"
   },
   "outputs": [
    {
     "data": {
      "image/png": "[encoded data removed]",
      "text/plain": [
       "<Figure size 1440x576 with 2 Axes>"
      ]
     },
     "metadata": {},
     "output_type": "display_data"
    }
   ],
   "source": [
    "#start_hour\n",
    "plt.figure(figsize=(20, 8))\n",
    "plt.subplot(1, 2, 1)\n",
    "plt.title(\"Alice's activity by start hour\")\n",
    "plt.ylim(0, 40)\n",
    "values_perc = visual_df[visual_df['target']==1]['start_hour'].value_counts(normalize=True)*100\n",
    "ax = sns.barplot(values_perc.index, values_perc.values, palette=\"YlGnBu\")\n",
    "ax.set(ylabel=\"Percent\")\n",
    "\n",
    "plt.subplot(1, 2, 2)\n",
    "plt.title(\"Activity of others by start hour\")\n",
    "plt.ylim(0, 40)\n",
    "values_perc = visual_df[visual_df['target']==0]['start_hour'].value_counts(normalize=True)*100\n",
    "ax = sns.barplot(values_perc.index, values_perc.values, palette=\"YlGnBu\")\n",
    "ax.set(ylabel=\"Percent\")\n",
    "plt.tight_layout()"
   ]
  },
  {
   "cell_type": "code",
   "execution_count": 16,
   "metadata": {
    "_uuid": "5cd27d865fb0588805ce67d928abbb49f4274ae2"
   },
   "outputs": [
    {
     "data": {
      "image/png": "[encoded data removed]",
      "text/plain": [
       "<Figure size 1440x576 with 2 Axes>"
      ]
     },
     "metadata": {},
     "output_type": "display_data"
    }
   ],
   "source": [
    "#month\n",
    "plt.figure(figsize=(20, 8))\n",
    "plt.subplot(1, 2, 1)\n",
    "plt.title(\"Alice's activity by start month\")\n",
    "plt.ylim(0, 30)\n",
    "values_perc = visual_df[visual_df['target']==1]['month'].value_counts(normalize=True)*100\n",
    "ax = sns.barplot(values_perc.index, values_perc.values, palette=\"OrRd\")\n",
    "ax.set(ylabel=\"Percent\")\n",
    "\n",
    "plt.subplot(1, 2, 2)\n",
    "plt.title(\"Activity of others by start month\")\n",
    "plt.ylim(0, 30)\n",
    "values_perc = visual_df[visual_df['target']==0]['month'].value_counts(normalize=True)*100\n",
    "ax = sns.barplot(values_perc.index, values_perc.values, palette=\"OrRd\")\n",
    "ax.set(ylabel=\"Percent\")\n",
    "plt.tight_layout()"
   ]
  },
  {
   "cell_type": "code",
   "execution_count": 17,
   "metadata": {
    "_uuid": "c2820b350f4c4b0879e327abe300bca3533d7aab"
   },
   "outputs": [
    {
     "data": {
      "image/png": "[encoded data removed]",
      "text/plain": [
       "<Figure size 1440x576 with 2 Axes>"
      ]
     },
     "metadata": {},
     "output_type": "display_data"
    }
   ],
   "source": [
    "#day of week\n",
    "plt.figure(figsize=(20, 8))\n",
    "plt.subplot(1, 2, 1)\n",
    "plt.title(\"Alice's activity by days of week\")\n",
    "plt.ylim(0, 35)\n",
    "values_perc = visual_df[visual_df['target']==1]['day_of_week'].value_counts(normalize=True)*100\n",
    "ax = sns.barplot(values_perc.index, values_perc.values)\n",
    "ax.set(ylabel=\"Percent\")\n",
    "\n",
    "plt.subplot(1, 2, 2)\n",
    "plt.title(\"Activity of others by days of week\")\n",
    "plt.ylim(0, 35)\n",
    "values_perc = visual_df[visual_df['target']==0]['day_of_week'].value_counts(normalize=True)*100\n",
    "ax = sns.barplot(values_perc.index, values_perc.values)\n",
    "ax.set(ylabel=\"Percent\")\n",
    "plt.tight_layout()"
   ]
  },
  {
   "cell_type": "markdown",
   "metadata": {
    "_uuid": "7c7abeb7896d3aa9a0bef51bf288841a5a817f9e"
   },
   "source": [
    "    - We see that Alice often comes to rest on Monday and much less often comes other Wednesday (as a percentage). \n",
    "    - In addition, the timing of the session is very different.\n",
    "    - But the distribution of the month is almost the same, except that Alice abnormally high activity in September."
   ]
  },
  {
   "cell_type": "markdown",
   "metadata": {
    "_uuid": "102277096ea1b3370f0f23eb91a60b3c039c1b71"
   },
   "source": [
    "### Step 4. Make the binary features with one-hot-encoding."
   ]
  },
  {
   "cell_type": "code",
   "execution_count": 18,
   "metadata": {
    "_uuid": "915ab6cea23840780567f5fe4e56e71f267ec030"
   },
   "outputs": [],
   "source": [
    "general_df = pd.get_dummies(general_df, columns=['start_hour'])\n",
    "general_df = pd.get_dummies(general_df, columns=['month'])\n",
    "general_df = pd.get_dummies(general_df, columns=['day_of_week'])\n",
    "general_df = pd.get_dummies(general_df, columns=['start_hour2'])\n",
    "general_df = pd.get_dummies(general_df, columns=['month2'])\n",
    "general_df = pd.get_dummies(general_df, columns=['day_of_week2'])\n",
    "other_features = list(set(general_df.columns) - set(times) - set(sites))\n",
    "print(other_features)"
   ]
  },
  {
   "cell_type": "markdown",
   "metadata": {
    "_uuid": "bac63a2f3d87a2010d5fa7d5bb54e4b52db71c77"
   },
   "source": [
    "### Step 5. Building a Model.\n",
    "Total number of features is 47173."
   ]
  },
  {
   "cell_type": "code",
   "execution_count": 64,
   "metadata": {
    "_uuid": "b75810ab397bc9eee549405b7f9c2cdc3e4bbbdf"
   },
   "outputs": [
    {
     "name": "stdout",
     "output_type": "stream",
     "text": [
      "(253561, 47179) (82797, 47179)\n"
     ]
    }
   ],
   "source": [
    "general_sparse = csr_matrix(hstack([general_sites_sparse, csr_matrix(general_df[other_features])]))\n",
    "\n",
    "X_train_notimes = general_sparse[:idx_split, :]\n",
    "X_test_notimes = general_sparse[idx_split:,:]\n",
    "print(X_train_notimes.shape, X_test_notimes.shape)"
   ]
  },
  {
   "cell_type": "code",
   "execution_count": 65,
   "metadata": {},
   "outputs": [
    {
     "name": "stdout",
     "output_type": "stream",
     "text": [
      "Fitting 10 folds for each of 10 candidates, totalling 100 fits\n"
     ]
    },
    {
     "name": "stderr",
     "output_type": "stream",
     "text": [
      "[Parallel(n_jobs=-1)]: Done  42 tasks      | elapsed:   28.4s\n",
      "[Parallel(n_jobs=-1)]: Done 100 out of 100 | elapsed:  3.1min finished\n"
     ]
    },
    {
     "data": {
      "text/plain": [
       "GridSearchCV(cv=TimeSeriesSplit(max_train_size=None, n_splits=10),\n",
       "       error_score='raise',\n",
       "       estimator=LogisticRegression(C=1.0, class_weight=None, dual=False, fit_intercept=True,\n",
       "          intercept_scaling=1, max_iter=100, multi_class='ovr', n_jobs=1,\n",
       "          penalty='l2', random_state=97, solver='liblinear', tol=0.0001,\n",
       "          verbose=0, warm_start=False),\n",
       "       fit_params=None, iid=True, n_jobs=-1,\n",
       "       param_grid={'C': array([1.00000e-02, 2.78256e-02, 7.74264e-02, 2.15443e-01, 5.99484e-01,\n",
       "       1.66810e+00, 4.64159e+00, 1.29155e+01, 3.59381e+01, 1.00000e+02])},\n",
       "       pre_dispatch='2*n_jobs', refit=True, return_train_score='warn',\n",
       "       scoring='roc_auc', verbose=1)"
      ]
     },
     "execution_count": 65,
     "metadata": {},
     "output_type": "execute_result"
    }
   ],
   "source": [
    "time_split = TimeSeriesSplit(n_splits=10)\n",
    "c_values = np.logspace(-2, 2, 10)\n",
    "logit = LogisticRegression(random_state=97) \n",
    "logit_grid_searcher = GridSearchCV(estimator=logit, param_grid={'C': c_values},\n",
    "                                  scoring='roc_auc', n_jobs=-1, cv=time_split, verbose=1)\n",
    "logit_grid_searcher.fit(X_train_notimes, y)"
   ]
  },
  {
   "cell_type": "code",
   "execution_count": 66,
   "metadata": {},
   "outputs": [],
   "source": [
    "logit_pred_proba = logit_grid_searcher.predict_proba(X_test_notimes)[:,1]\n",
    "write_to_submission_file(logit_pred_proba, 'submission_Basasuya.csv')"
   ]
  }
 ],
 "metadata": {
  "kernelspec": {
   "display_name": "Python 3",
   "language": "python",
   "name": "python3"
  },
  "language_info": {
   "codemirror_mode": {
    "name": "ipython",
    "version": 3
   },
   "file_extension": ".py",
   "mimetype": "text/x-python",
   "name": "python",
   "nbconvert_exporter": "python",
   "pygments_lexer": "ipython3",
   "version": "3.6.4"
  }
 },
 "nbformat": 4,
 "nbformat_minor": 2
}
